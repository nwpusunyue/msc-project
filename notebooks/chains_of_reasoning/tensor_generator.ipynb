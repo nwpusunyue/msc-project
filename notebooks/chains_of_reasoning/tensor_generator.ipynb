{
 "cells": [
  {
   "cell_type": "code",
   "execution_count": 1,
   "metadata": {},
   "outputs": [],
   "source": [
    "import os\n",
    "import sys\n",
    "\n",
    "import numpy as np\n",
    "import pandas as pd\n",
    "import tensorflow as tf\n",
    "\n",
    "from itertools import chain\n",
    "\n",
    "nb_dir = os.path.split(os.path.split(os.getcwd())[0])[0]\n",
    "if nb_dir not in sys.path:\n",
    "    sys.path.append(nb_dir)\n",
    "    sys.path.append(nb_dir + '/path_rnn_v2')\n",
    "    \n",
    "from path_rnn_v2.util.embeddings import RandomEmbeddings"
   ]
  },
  {
   "cell_type": "code",
   "execution_count": 2,
   "metadata": {},
   "outputs": [],
   "source": [
    "pos = pd.read_json('./../../chains_of_reasoning_data/_people_person_nationality/parsed/positive_matrix.json')\n",
    "neg = pd.read_json('./../../chains_of_reasoning_data/_people_person_nationality/parsed/negative_matrix.json')\n",
    "dev = pd.read_json('./../../chains_of_reasoning_data/_people_person_nationality/parsed/dev_matrix.json')"
   ]
  },
  {
   "cell_type": "code",
   "execution_count": 3,
   "metadata": {},
   "outputs": [],
   "source": [
    "train = pd.concat([pos, neg], axis=0).reset_index()"
   ]
  },
  {
   "cell_type": "code",
   "execution_count": 4,
   "metadata": {},
   "outputs": [
    {
     "data": {
      "text/html": [
       "<div>\n",
       "<style scoped>\n",
       "    .dataframe tbody tr th:only-of-type {\n",
       "        vertical-align: middle;\n",
       "    }\n",
       "\n",
       "    .dataframe tbody tr th {\n",
       "        vertical-align: top;\n",
       "    }\n",
       "\n",
       "    .dataframe thead th {\n",
       "        text-align: right;\n",
       "    }\n",
       "</style>\n",
       "<table border=\"1\" class=\"dataframe\">\n",
       "  <thead>\n",
       "    <tr style=\"text-align: right;\">\n",
       "      <th></th>\n",
       "      <th>index</th>\n",
       "      <th>source</th>\n",
       "      <th>target</th>\n",
       "      <th>relation_paths</th>\n",
       "      <th>entity_paths</th>\n",
       "      <th>label</th>\n",
       "      <th>target_relation</th>\n",
       "    </tr>\n",
       "  </thead>\n",
       "  <tbody>\n",
       "    <tr>\n",
       "      <th>0</th>\n",
       "      <td>0</td>\n",
       "      <td>/m/06w5j9r</td>\n",
       "      <td>/m/06mkj</td>\n",
       "      <td>[[for,the,4,to,the, _with, #END], [in,the, Che...</td>\n",
       "      <td>[[/m/06w5j9r, /m/02jx1, /m/06mkj], [/m/06w5j9r...</td>\n",
       "      <td>1</td>\n",
       "      <td>/people/person/nationality</td>\n",
       "    </tr>\n",
       "    <tr>\n",
       "      <th>1</th>\n",
       "      <td>1</td>\n",
       "      <td>/m/05b4fq7</td>\n",
       "      <td>/m/09c7w0</td>\n",
       "      <td>[[received,his,2,from,the, _and,in,2,for,the, ...</td>\n",
       "      <td>[[/m/05b4fq7, /m/02hp6p, /m/04yty0, /m/036nz, ...</td>\n",
       "      <td>1</td>\n",
       "      <td>/people/person/nationality</td>\n",
       "    </tr>\n",
       "    <tr>\n",
       "      <th>2</th>\n",
       "      <td>2</td>\n",
       "      <td>/m/07r523</td>\n",
       "      <td>/m/0154j</td>\n",
       "      <td>[[/people/person/place_of_birth, and,the, who,...</td>\n",
       "      <td>[[/m/07r523, /m/0cf0s, /m/0hzlz, /m/02j9z, /m/...</td>\n",
       "      <td>1</td>\n",
       "      <td>/people/person/nationality</td>\n",
       "    </tr>\n",
       "    <tr>\n",
       "      <th>3</th>\n",
       "      <td>3</td>\n",
       "      <td>/m/01gtny</td>\n",
       "      <td>/m/0d060g</td>\n",
       "      <td>[[defending, _felt,that, _will,play,the, _titl...</td>\n",
       "      <td>[[/m/01gtny, /m/07jl8v, /m/0hn2q, /m/0hmtk, /m...</td>\n",
       "      <td>1</td>\n",
       "      <td>/people/person/nationality</td>\n",
       "    </tr>\n",
       "    <tr>\n",
       "      <th>4</th>\n",
       "      <td>4</td>\n",
       "      <td>/m/08c7fr</td>\n",
       "      <td>/m/0chghy</td>\n",
       "      <td>[[and,Indian, on,a, model,in, the,US, #END], [...</td>\n",
       "      <td>[[/m/08c7fr, /m/0g9_1gq, /m/0h7mwj9, /m/03rk0,...</td>\n",
       "      <td>1</td>\n",
       "      <td>/people/person/nationality</td>\n",
       "    </tr>\n",
       "  </tbody>\n",
       "</table>\n",
       "</div>"
      ],
      "text/plain": [
       "   index      source     target  \\\n",
       "0      0  /m/06w5j9r   /m/06mkj   \n",
       "1      1  /m/05b4fq7  /m/09c7w0   \n",
       "2      2   /m/07r523   /m/0154j   \n",
       "3      3   /m/01gtny  /m/0d060g   \n",
       "4      4   /m/08c7fr  /m/0chghy   \n",
       "\n",
       "                                      relation_paths  \\\n",
       "0  [[for,the,4,to,the, _with, #END], [in,the, Che...   \n",
       "1  [[received,his,2,from,the, _and,in,2,for,the, ...   \n",
       "2  [[/people/person/place_of_birth, and,the, who,...   \n",
       "3  [[defending, _felt,that, _will,play,the, _titl...   \n",
       "4  [[and,Indian, on,a, model,in, the,US, #END], [...   \n",
       "\n",
       "                                        entity_paths  label  \\\n",
       "0  [[/m/06w5j9r, /m/02jx1, /m/06mkj], [/m/06w5j9r...      1   \n",
       "1  [[/m/05b4fq7, /m/02hp6p, /m/04yty0, /m/036nz, ...      1   \n",
       "2  [[/m/07r523, /m/0cf0s, /m/0hzlz, /m/02j9z, /m/...      1   \n",
       "3  [[/m/01gtny, /m/07jl8v, /m/0hn2q, /m/0hmtk, /m...      1   \n",
       "4  [[/m/08c7fr, /m/0g9_1gq, /m/0h7mwj9, /m/03rk0,...      1   \n",
       "\n",
       "              target_relation  \n",
       "0  /people/person/nationality  \n",
       "1  /people/person/nationality  \n",
       "2  /people/person/nationality  \n",
       "3  /people/person/nationality  \n",
       "4  /people/person/nationality  "
      ]
     },
     "execution_count": 4,
     "metadata": {},
     "output_type": "execute_result"
    }
   ],
   "source": [
    "train.head()"
   ]
  },
  {
   "cell_type": "code",
   "execution_count": 5,
   "metadata": {},
   "outputs": [
    {
     "data": {
      "text/plain": [
       "15083"
      ]
     },
     "execution_count": 5,
     "metadata": {},
     "output_type": "execute_result"
    }
   ],
   "source": [
    "len(train)"
   ]
  },
  {
   "cell_type": "code",
   "execution_count": 6,
   "metadata": {},
   "outputs": [],
   "source": [
    "train['max_path_len'] = train['relation_paths'].apply(lambda row: np.max([len(path) for path in row]))"
   ]
  },
  {
   "cell_type": "code",
   "execution_count": 7,
   "metadata": {},
   "outputs": [
    {
     "data": {
      "text/plain": [
       "16"
      ]
     },
     "execution_count": 7,
     "metadata": {},
     "output_type": "execute_result"
    }
   ],
   "source": [
    "train['max_path_len'].max()"
   ]
  },
  {
   "cell_type": "code",
   "execution_count": 8,
   "metadata": {},
   "outputs": [],
   "source": [
    "train['num_paths'] = train['relation_paths'].apply(lambda row: len(row))"
   ]
  },
  {
   "cell_type": "code",
   "execution_count": 9,
   "metadata": {},
   "outputs": [
    {
     "data": {
      "text/plain": [
       "127"
      ]
     },
     "execution_count": 9,
     "metadata": {},
     "output_type": "execute_result"
    }
   ],
   "source": [
    "train['num_paths'][0]"
   ]
  },
  {
   "cell_type": "code",
   "execution_count": 10,
   "metadata": {},
   "outputs": [
    {
     "data": {
      "text/plain": [
       "947"
      ]
     },
     "execution_count": 10,
     "metadata": {},
     "output_type": "execute_result"
    }
   ],
   "source": [
    "train['num_paths'].max()"
   ]
  },
  {
   "cell_type": "code",
   "execution_count": 11,
   "metadata": {},
   "outputs": [],
   "source": [
    "relations = set(chain.from_iterable(list(chain.from_iterable(train['relation_paths']))))\n",
    "relations.add('#UNK')\n",
    "relations.add('#END')"
   ]
  },
  {
   "cell_type": "code",
   "execution_count": 12,
   "metadata": {},
   "outputs": [],
   "source": [
    "random_embd = RandomEmbeddings(relations, 250, 'rel_embd', '#UNK', tf.initializers.random_normal())"
   ]
  },
  {
   "cell_type": "code",
   "execution_count": 13,
   "metadata": {},
   "outputs": [
    {
     "data": {
      "text/plain": [
       "12606"
      ]
     },
     "execution_count": 13,
     "metadata": {},
     "output_type": "execute_result"
    }
   ],
   "source": [
    "random_embd.get_idx('_felt,that')"
   ]
  },
  {
   "cell_type": "code",
   "execution_count": 14,
   "metadata": {},
   "outputs": [
    {
     "data": {
      "text/plain": [
       "6250"
      ]
     },
     "execution_count": 14,
     "metadata": {},
     "output_type": "execute_result"
    }
   ],
   "source": [
    "random_embd.get_idx('lol this should not work')"
   ]
  },
  {
   "cell_type": "code",
   "execution_count": 15,
   "metadata": {},
   "outputs": [
    {
     "data": {
      "text/plain": [
       "1014917"
      ]
     },
     "execution_count": 15,
     "metadata": {},
     "output_type": "execute_result"
    }
   ],
   "source": [
    "train.loc[train['label'] == 0]['num_paths'].sum()"
   ]
  },
  {
   "cell_type": "code",
   "execution_count": 16,
   "metadata": {},
   "outputs": [
    {
     "data": {
      "text/plain": [
       "785581"
      ]
     },
     "execution_count": 16,
     "metadata": {},
     "output_type": "execute_result"
    }
   ],
   "source": [
    "train.loc[train['label'] == 1]['num_paths'].sum()"
   ]
  },
  {
   "cell_type": "code",
   "execution_count": 17,
   "metadata": {},
   "outputs": [
    {
     "data": {
      "text/html": [
       "<div>\n",
       "<style scoped>\n",
       "    .dataframe tbody tr th:only-of-type {\n",
       "        vertical-align: middle;\n",
       "    }\n",
       "\n",
       "    .dataframe tbody tr th {\n",
       "        vertical-align: top;\n",
       "    }\n",
       "\n",
       "    .dataframe thead th {\n",
       "        text-align: right;\n",
       "    }\n",
       "</style>\n",
       "<table border=\"1\" class=\"dataframe\">\n",
       "  <thead>\n",
       "    <tr style=\"text-align: right;\">\n",
       "      <th></th>\n",
       "      <th>source</th>\n",
       "      <th>target</th>\n",
       "      <th>relation_paths</th>\n",
       "      <th>entity_paths</th>\n",
       "      <th>label</th>\n",
       "      <th>target_relation</th>\n",
       "    </tr>\n",
       "  </thead>\n",
       "  <tbody>\n",
       "    <tr>\n",
       "      <th>0</th>\n",
       "      <td>/m/0fw80h</td>\n",
       "      <td>/m/05b4w</td>\n",
       "      <td>[[shows,how, or, _Chamber,of,Commerce, _in, _/...</td>\n",
       "      <td>[[/m/0fw80h, /m/017yh, /m/01nsmg, /m/0bfc5q, /...</td>\n",
       "      <td>0</td>\n",
       "      <td>/people/person/nationality</td>\n",
       "    </tr>\n",
       "    <tr>\n",
       "      <th>1</th>\n",
       "      <td>/m/04y6lhs</td>\n",
       "      <td>/m/06s_2</td>\n",
       "      <td>[[is, _from, during, Portugal, _/people/person...</td>\n",
       "      <td>[[/m/04y6lhs, /m/09b6zr, /m/07t31, /m/01crd5, ...</td>\n",
       "      <td>0</td>\n",
       "      <td>/people/person/nationality</td>\n",
       "    </tr>\n",
       "    <tr>\n",
       "      <th>2</th>\n",
       "      <td>/m/0437mm</td>\n",
       "      <td>/m/012m_</td>\n",
       "      <td>[[/people/person/place_of_birth, _/location/lo...</td>\n",
       "      <td>[[/m/0437mm, /m/04ckd4, /m/05qhw, /m/012m_], [...</td>\n",
       "      <td>0</td>\n",
       "      <td>/people/person/nationality</td>\n",
       "    </tr>\n",
       "    <tr>\n",
       "      <th>3</th>\n",
       "      <td>/m/0f1cgl</td>\n",
       "      <td>/m/03_3d</td>\n",
       "      <td>[[_NEW,YORK, over,the,3,in,the, South,Africa,a...</td>\n",
       "      <td>[[/m/0f1cgl, /m/0cv_2, /m/09c7w0, /m/03_3d], [...</td>\n",
       "      <td>1</td>\n",
       "      <td>/people/person/nationality</td>\n",
       "    </tr>\n",
       "    <tr>\n",
       "      <th>4</th>\n",
       "      <td>/m/047qmvx</td>\n",
       "      <td>/m/03spz</td>\n",
       "      <td>[[but,the, Sir, was,chosen,by, from, #END], [b...</td>\n",
       "      <td>[[/m/047qmvx, /m/0cp02r6, /m/0jrc0, /m/07ssc, ...</td>\n",
       "      <td>0</td>\n",
       "      <td>/people/person/nationality</td>\n",
       "    </tr>\n",
       "  </tbody>\n",
       "</table>\n",
       "</div>"
      ],
      "text/plain": [
       "       source    target                                     relation_paths  \\\n",
       "0   /m/0fw80h  /m/05b4w  [[shows,how, or, _Chamber,of,Commerce, _in, _/...   \n",
       "1  /m/04y6lhs  /m/06s_2  [[is, _from, during, Portugal, _/people/person...   \n",
       "2   /m/0437mm  /m/012m_  [[/people/person/place_of_birth, _/location/lo...   \n",
       "3   /m/0f1cgl  /m/03_3d  [[_NEW,YORK, over,the,3,in,the, South,Africa,a...   \n",
       "4  /m/047qmvx  /m/03spz  [[but,the, Sir, was,chosen,by, from, #END], [b...   \n",
       "\n",
       "                                        entity_paths  label  \\\n",
       "0  [[/m/0fw80h, /m/017yh, /m/01nsmg, /m/0bfc5q, /...      0   \n",
       "1  [[/m/04y6lhs, /m/09b6zr, /m/07t31, /m/01crd5, ...      0   \n",
       "2  [[/m/0437mm, /m/04ckd4, /m/05qhw, /m/012m_], [...      0   \n",
       "3  [[/m/0f1cgl, /m/0cv_2, /m/09c7w0, /m/03_3d], [...      1   \n",
       "4  [[/m/047qmvx, /m/0cp02r6, /m/0jrc0, /m/07ssc, ...      0   \n",
       "\n",
       "              target_relation  \n",
       "0  /people/person/nationality  \n",
       "1  /people/person/nationality  \n",
       "2  /people/person/nationality  \n",
       "3  /people/person/nationality  \n",
       "4  /people/person/nationality  "
      ]
     },
     "execution_count": 17,
     "metadata": {},
     "output_type": "execute_result"
    }
   ],
   "source": [
    "dev.head()"
   ]
  },
  {
   "cell_type": "code",
   "execution_count": 19,
   "metadata": {},
   "outputs": [
    {
     "data": {
      "text/plain": [
       "source             1038\n",
       "target             1038\n",
       "relation_paths     1038\n",
       "entity_paths       1038\n",
       "label              1038\n",
       "target_relation    1038\n",
       "dtype: int64"
      ]
     },
     "execution_count": 19,
     "metadata": {},
     "output_type": "execute_result"
    }
   ],
   "source": [
    "dev.loc[dev['label'] == 1].count()"
   ]
  },
  {
   "cell_type": "code",
   "execution_count": 20,
   "metadata": {},
   "outputs": [
    {
     "data": {
      "text/plain": [
       "source             12466\n",
       "target             12466\n",
       "relation_paths     12466\n",
       "entity_paths       12466\n",
       "label              12466\n",
       "target_relation    12466\n",
       "dtype: int64"
      ]
     },
     "execution_count": 20,
     "metadata": {},
     "output_type": "execute_result"
    }
   ],
   "source": [
    "dev.loc[dev['label'] == 0].count()"
   ]
  },
  {
   "cell_type": "code",
   "execution_count": null,
   "metadata": {},
   "outputs": [],
   "source": []
  }
 ],
 "metadata": {
  "kernelspec": {
   "display_name": "Python 3",
   "language": "python",
   "name": "python3"
  },
  "language_info": {
   "codemirror_mode": {
    "name": "ipython",
    "version": 3
   },
   "file_extension": ".py",
   "mimetype": "text/x-python",
   "name": "python",
   "nbconvert_exporter": "python",
   "pygments_lexer": "ipython3",
   "version": "3.6.5"
  }
 },
 "nbformat": 4,
 "nbformat_minor": 2
}
