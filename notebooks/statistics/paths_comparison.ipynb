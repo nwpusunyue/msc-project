{
 "cells": [
  {
   "cell_type": "code",
   "execution_count": 30,
   "metadata": {
    "collapsed": false
   },
   "outputs": [],
   "source": [
    "import pickle\n",
    "import pandas as pd\n",
    "from itertools import chain\n",
    "import os\n",
    "import sys\n",
    "nb_dir = os.path.split(os.getcwd())[0]\n",
    "if nb_dir not in sys.path:\n",
    "    sys.path.append(nb_dir)\n",
    "    sys.path.append(nb_dir + '/parsing')"
   ]
  },
  {
   "cell_type": "code",
   "execution_count": 31,
   "metadata": {
    "collapsed": false
   },
   "outputs": [],
   "source": [
    "train_dataset = pd.read_json(\n",
    "        '/cs/student/projects2/ml/2017/Segmentation/sentwise=F_cutoff=4_limit=1_method=shortest_medhop_train.json')\n",
    "train_document_store = pickle.load(open('/cs/student/projects2/ml/2017/Segmentation/train_doc_store.pickle',\n",
    "                                   'rb'))"
   ]
  },
  {
   "cell_type": "code",
   "execution_count": 3,
   "metadata": {
    "collapsed": false
   },
   "outputs": [
    {
     "data": {
      "text/html": [
       "<div>\n",
       "<style scoped>\n",
       "    .dataframe tbody tr th:only-of-type {\n",
       "        vertical-align: middle;\n",
       "    }\n",
       "\n",
       "    .dataframe tbody tr th {\n",
       "        vertical-align: top;\n",
       "    }\n",
       "\n",
       "    .dataframe thead th {\n",
       "        text-align: right;\n",
       "    }\n",
       "</style>\n",
       "<table border=\"1\" class=\"dataframe\">\n",
       "  <thead>\n",
       "    <tr style=\"text-align: right;\">\n",
       "      <th></th>\n",
       "      <th>entity_paths</th>\n",
       "      <th>id</th>\n",
       "      <th>label</th>\n",
       "      <th>relation</th>\n",
       "      <th>relation_paths</th>\n",
       "      <th>source</th>\n",
       "      <th>target</th>\n",
       "    </tr>\n",
       "  </thead>\n",
       "  <tbody>\n",
       "    <tr>\n",
       "      <th>0</th>\n",
       "      <td>[[DB00072, P16104, DB00773]]</td>\n",
       "      <td>MH_train_0</td>\n",
       "      <td>1</td>\n",
       "      <td>interacts_with</td>\n",
       "      <td>[[2822, 13427, -1]]</td>\n",
       "      <td>DB00072</td>\n",
       "      <td>DB00773</td>\n",
       "    </tr>\n",
       "    <tr>\n",
       "      <th>1</th>\n",
       "      <td>[[DB00294, P06401, P12830, P15692, DB00773]]</td>\n",
       "      <td>MH_train_0</td>\n",
       "      <td>0</td>\n",
       "      <td>interacts_with</td>\n",
       "      <td>[[12161, 5896, 3003, 8080, -1]]</td>\n",
       "      <td>DB00294</td>\n",
       "      <td>DB00773</td>\n",
       "    </tr>\n",
       "    <tr>\n",
       "      <th>2</th>\n",
       "      <td>[[DB00338, O75030, DB00133, DB00773]]</td>\n",
       "      <td>MH_train_0</td>\n",
       "      <td>0</td>\n",
       "      <td>interacts_with</td>\n",
       "      <td>[[3059, 11424, 537, -1]]</td>\n",
       "      <td>DB00338</td>\n",
       "      <td>DB00773</td>\n",
       "    </tr>\n",
       "    <tr>\n",
       "      <th>3</th>\n",
       "      <td>[[DB00341, P35367, P05231, P35228, DB00773]]</td>\n",
       "      <td>MH_train_0</td>\n",
       "      <td>0</td>\n",
       "      <td>interacts_with</td>\n",
       "      <td>[[9869, 7118, 11664, 13427, -1]]</td>\n",
       "      <td>DB00341</td>\n",
       "      <td>DB00773</td>\n",
       "    </tr>\n",
       "    <tr>\n",
       "      <th>4</th>\n",
       "      <td>[[DB00588, P05113, P15692, DB00773]]</td>\n",
       "      <td>MH_train_0</td>\n",
       "      <td>0</td>\n",
       "      <td>interacts_with</td>\n",
       "      <td>[[6139, 11285, 8080, -1]]</td>\n",
       "      <td>DB00588</td>\n",
       "      <td>DB00773</td>\n",
       "    </tr>\n",
       "  </tbody>\n",
       "</table>\n",
       "</div>"
      ],
      "text/plain": [
       "                                   entity_paths          id  label  \\\n",
       "0                  [[DB00072, P16104, DB00773]]  MH_train_0      1   \n",
       "1  [[DB00294, P06401, P12830, P15692, DB00773]]  MH_train_0      0   \n",
       "2         [[DB00338, O75030, DB00133, DB00773]]  MH_train_0      0   \n",
       "3  [[DB00341, P35367, P05231, P35228, DB00773]]  MH_train_0      0   \n",
       "4          [[DB00588, P05113, P15692, DB00773]]  MH_train_0      0   \n",
       "\n",
       "         relation                    relation_paths   source   target  \n",
       "0  interacts_with               [[2822, 13427, -1]]  DB00072  DB00773  \n",
       "1  interacts_with   [[12161, 5896, 3003, 8080, -1]]  DB00294  DB00773  \n",
       "2  interacts_with          [[3059, 11424, 537, -1]]  DB00338  DB00773  \n",
       "3  interacts_with  [[9869, 7118, 11664, 13427, -1]]  DB00341  DB00773  \n",
       "4  interacts_with         [[6139, 11285, 8080, -1]]  DB00588  DB00773  "
      ]
     },
     "execution_count": 3,
     "metadata": {},
     "output_type": "execute_result"
    }
   ],
   "source": [
    "train_dataset.head()"
   ]
  },
  {
   "cell_type": "code",
   "execution_count": 4,
   "metadata": {
    "collapsed": false
   },
   "outputs": [
    {
     "data": {
      "text/plain": [
       "14436"
      ]
     },
     "execution_count": 4,
     "metadata": {},
     "output_type": "execute_result"
    }
   ],
   "source": [
    "len(train_dataset)"
   ]
  },
  {
   "cell_type": "code",
   "execution_count": 19,
   "metadata": {
    "collapsed": false
   },
   "outputs": [],
   "source": [
    "paths = list(chain.from_iterable(train_dataset['relation_paths']))\n",
    "paths = [tuple(p) for p in paths]"
   ]
  },
  {
   "cell_type": "code",
   "execution_count": 21,
   "metadata": {
    "collapsed": false
   },
   "outputs": [],
   "source": [
    "dups = set([x for x in paths if paths.count(x) > 1]) "
   ]
  },
  {
   "cell_type": "code",
   "execution_count": 32,
   "metadata": {
    "collapsed": false
   },
   "outputs": [
    {
     "data": {
      "text/plain": [
       "36"
      ]
     },
     "execution_count": 32,
     "metadata": {},
     "output_type": "execute_result"
    }
   ],
   "source": [
    "len(dups)"
   ]
  },
  {
   "cell_type": "code",
   "execution_count": 33,
   "metadata": {
    "collapsed": false
   },
   "outputs": [
    {
     "data": {
      "text/plain": [
       "{(28, 11217, 13251, -1),\n",
       " (1019, -1),\n",
       " (1333, 3203, -1),\n",
       " (1333, 11987, 5604, -1),\n",
       " (1333, 13759, 8080, -1),\n",
       " (1618, 10425, 4077, -1),\n",
       " (2067, 12, 10152, -1),\n",
       " (2067, 6872, 10648, 9879, -1),\n",
       " (2067, 8902, 7996, -1),\n",
       " (2067, 8986, 742, -1),\n",
       " (2067, 13477, 11217, 5023, -1),\n",
       " (2067, 13929, 4918, -1),\n",
       " (2067, 14207, 9093, -1),\n",
       " (3577, -1),\n",
       " (3587, 4485, 8550, 12088, -1),\n",
       " (4250, 11875, 14363, -1),\n",
       " (4462, 4415, 5309, -1),\n",
       " (4462, 5198, 3202, -1),\n",
       " (4488, 13884, 6341, -1),\n",
       " (4891, 102, 1333, -1),\n",
       " (5272, 4899, 13627, -1),\n",
       " (5382, 8, -1),\n",
       " (5382, 8249, 1777, -1),\n",
       " (5382, 8249, 10955, -1),\n",
       " (5382, 11892, 667, -1),\n",
       " (5555, 7631, 2966, -1),\n",
       " (5886, -1),\n",
       " (5976, 5824, 2215, -1),\n",
       " (7122, 14332, 11891, -1),\n",
       " (7338, 6872, 2067, -1),\n",
       " (7987, 7043, -1),\n",
       " (8302, 7499, 290, 3059, -1),\n",
       " (9532, 837, 2067, -1),\n",
       " (9879, 2001, 9871, -1),\n",
       " (10587, 1648, 2067, -1),\n",
       " (13627, -1)}"
      ]
     },
     "execution_count": 33,
     "metadata": {},
     "output_type": "execute_result"
    }
   ],
   "source": [
    "dups"
   ]
  },
  {
   "cell_type": "code",
   "execution_count": 55,
   "metadata": {
    "collapsed": false
   },
   "outputs": [
    {
     "data": {
      "text/plain": [
       "{'DB00714': [0], 'P08908': [257]}"
      ]
     },
     "execution_count": 55,
     "metadata": {},
     "output_type": "execute_result"
    }
   ],
   "source": [
    "train_document_store.document_entities[3203]"
   ]
  },
  {
   "cell_type": "code",
   "execution_count": 45,
   "metadata": {
    "collapsed": false
   },
   "outputs": [],
   "source": [
    "train_dataset['tuple_paths'] = train_dataset['relation_paths'].apply(lambda paths: tuple(paths[0]))"
   ]
  },
  {
   "cell_type": "code",
   "execution_count": 59,
   "metadata": {
    "collapsed": false
   },
   "outputs": [],
   "source": [
    "train_dataset.loc[~train_dataset['tuple_paths'].isin(list(dups))].drop('tuple_paths', axis=1).to_json('/cs/student/projects2/ml/2017/Segmentation/sentwise=F_cutoff=4_limit=1_method=shortest_medhop_train_no_dups.json')"
   ]
  },
  {
   "cell_type": "code",
   "execution_count": null,
   "metadata": {
    "collapsed": true
   },
   "outputs": [],
   "source": []
  }
 ],
 "metadata": {
  "anaconda-cloud": {},
  "kernelspec": {
   "display_name": "Python [conda env:anaconda3]",
   "language": "python",
   "name": "conda-env-anaconda3-py"
  },
  "language_info": {
   "codemirror_mode": {
    "name": "ipython",
    "version": 3
   },
   "file_extension": ".py",
   "mimetype": "text/x-python",
   "name": "python",
   "nbconvert_exporter": "python",
   "pygments_lexer": "ipython3",
   "version": "3.5.2"
  }
 },
 "nbformat": 4,
 "nbformat_minor": 2
}
