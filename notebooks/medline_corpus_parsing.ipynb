{
 "cells": [
  {
   "cell_type": "code",
   "execution_count": 178,
   "metadata": {},
   "outputs": [],
   "source": [
    "import os\n",
    "import re\n",
    "import tarfile\n",
    "\n",
    "import numpy as np\n",
    "import pandas as pd\n",
    "\n",
    "from tqdm import tqdm\n",
    "\n",
    "pd.set_option('display.max_colwidth', -1)"
   ]
  },
  {
   "cell_type": "code",
   "execution_count": 118,
   "metadata": {},
   "outputs": [],
   "source": [
    "df = pd.read_csv('/home/scimpian/grepner_pubmed_2016.tsv', sep='\\t', header=None)"
   ]
  },
  {
   "cell_type": "code",
   "execution_count": 119,
   "metadata": {},
   "outputs": [
    {
     "data": {
      "text/html": [
       "<div>\n",
       "<style scoped>\n",
       "    .dataframe tbody tr th:only-of-type {\n",
       "        vertical-align: middle;\n",
       "    }\n",
       "\n",
       "    .dataframe tbody tr th {\n",
       "        vertical-align: top;\n",
       "    }\n",
       "\n",
       "    .dataframe thead th {\n",
       "        text-align: right;\n",
       "    }\n",
       "</style>\n",
       "<table border=\"1\" class=\"dataframe\">\n",
       "  <thead>\n",
       "    <tr style=\"text-align: right;\">\n",
       "      <th></th>\n",
       "      <th>0</th>\n",
       "      <th>1</th>\n",
       "      <th>2</th>\n",
       "      <th>3</th>\n",
       "      <th>4</th>\n",
       "      <th>5</th>\n",
       "      <th>6</th>\n",
       "      <th>7</th>\n",
       "    </tr>\n",
       "  </thead>\n",
       "  <tbody>\n",
       "    <tr>\n",
       "      <th>0</th>\n",
       "      <td>/scratch0/psteneto/medline2016/medline16n0001/16691752.txt.ss.tok.grepner</td>\n",
       "      <td>1</td>\n",
       "      <td>0</td>\n",
       "      <td>90</td>\n",
       "      <td>17</td>\n",
       "      <td>22</td>\n",
       "      <td>Water</td>\n",
       "      <td>DB09145</td>\n",
       "    </tr>\n",
       "    <tr>\n",
       "      <th>1</th>\n",
       "      <td>/scratch0/psteneto/medline2016/medline16n0001/16691813.txt.ss.tok.grepner</td>\n",
       "      <td>1</td>\n",
       "      <td>0</td>\n",
       "      <td>67</td>\n",
       "      <td>24</td>\n",
       "      <td>28</td>\n",
       "      <td>Iron</td>\n",
       "      <td>DB01592</td>\n",
       "    </tr>\n",
       "    <tr>\n",
       "      <th>2</th>\n",
       "      <td>/scratch0/psteneto/medline2016/medline16n0001/16991250.txt.ss.tok.grepner</td>\n",
       "      <td>1</td>\n",
       "      <td>0</td>\n",
       "      <td>147</td>\n",
       "      <td>126</td>\n",
       "      <td>130</td>\n",
       "      <td>Urea</td>\n",
       "      <td>DB03904</td>\n",
       "    </tr>\n",
       "    <tr>\n",
       "      <th>3</th>\n",
       "      <td>/scratch0/psteneto/medline2016/medline16n0001/16991252.txt.ss.tok.grepner</td>\n",
       "      <td>1</td>\n",
       "      <td>0</td>\n",
       "      <td>61</td>\n",
       "      <td>43</td>\n",
       "      <td>50</td>\n",
       "      <td>Atropin</td>\n",
       "      <td>DB00572</td>\n",
       "    </tr>\n",
       "    <tr>\n",
       "      <th>4</th>\n",
       "      <td>/scratch0/psteneto/medline2016/medline16n0001/16991253.txt.ss.tok.grepner</td>\n",
       "      <td>1</td>\n",
       "      <td>0</td>\n",
       "      <td>19</td>\n",
       "      <td>12</td>\n",
       "      <td>16</td>\n",
       "      <td>Prof</td>\n",
       "      <td>Q96P53</td>\n",
       "    </tr>\n",
       "  </tbody>\n",
       "</table>\n",
       "</div>"
      ],
      "text/plain": [
       "                                                                           0  \\\n",
       "0  /scratch0/psteneto/medline2016/medline16n0001/16691752.txt.ss.tok.grepner   \n",
       "1  /scratch0/psteneto/medline2016/medline16n0001/16691813.txt.ss.tok.grepner   \n",
       "2  /scratch0/psteneto/medline2016/medline16n0001/16991250.txt.ss.tok.grepner   \n",
       "3  /scratch0/psteneto/medline2016/medline16n0001/16991252.txt.ss.tok.grepner   \n",
       "4  /scratch0/psteneto/medline2016/medline16n0001/16991253.txt.ss.tok.grepner   \n",
       "\n",
       "   1  2    3    4    5        6        7  \n",
       "0  1  0  90   17   22   Water    DB09145  \n",
       "1  1  0  67   24   28   Iron     DB01592  \n",
       "2  1  0  147  126  130  Urea     DB03904  \n",
       "3  1  0  61   43   50   Atropin  DB00572  \n",
       "4  1  0  19   12   16   Prof     Q96P53   "
      ]
     },
     "execution_count": 119,
     "metadata": {},
     "output_type": "execute_result"
    }
   ],
   "source": [
    "df.head()"
   ]
  },
  {
   "cell_type": "code",
   "execution_count": 120,
   "metadata": {},
   "outputs": [],
   "source": [
    "df['base'] = df[0].apply(lambda path: path.split('/')[4])"
   ]
  },
  {
   "cell_type": "code",
   "execution_count": 121,
   "metadata": {},
   "outputs": [],
   "source": [
    "df['file'] = df[0].apply(lambda path: path.split('/')[5][:-8])"
   ]
  },
  {
   "cell_type": "code",
   "execution_count": 122,
   "metadata": {},
   "outputs": [],
   "source": [
    "df = df.drop([0, 1, 2, 3], axis=1)"
   ]
  },
  {
   "cell_type": "code",
   "execution_count": 123,
   "metadata": {},
   "outputs": [
    {
     "data": {
      "text/html": [
       "<div>\n",
       "<style scoped>\n",
       "    .dataframe tbody tr th:only-of-type {\n",
       "        vertical-align: middle;\n",
       "    }\n",
       "\n",
       "    .dataframe tbody tr th {\n",
       "        vertical-align: top;\n",
       "    }\n",
       "\n",
       "    .dataframe thead th {\n",
       "        text-align: right;\n",
       "    }\n",
       "</style>\n",
       "<table border=\"1\" class=\"dataframe\">\n",
       "  <thead>\n",
       "    <tr style=\"text-align: right;\">\n",
       "      <th></th>\n",
       "      <th>4</th>\n",
       "      <th>5</th>\n",
       "      <th>6</th>\n",
       "      <th>7</th>\n",
       "      <th>base</th>\n",
       "      <th>file</th>\n",
       "    </tr>\n",
       "  </thead>\n",
       "  <tbody>\n",
       "    <tr>\n",
       "      <th>0</th>\n",
       "      <td>17</td>\n",
       "      <td>22</td>\n",
       "      <td>Water</td>\n",
       "      <td>DB09145</td>\n",
       "      <td>medline16n0001</td>\n",
       "      <td>16691752.txt.ss.tok</td>\n",
       "    </tr>\n",
       "    <tr>\n",
       "      <th>1</th>\n",
       "      <td>24</td>\n",
       "      <td>28</td>\n",
       "      <td>Iron</td>\n",
       "      <td>DB01592</td>\n",
       "      <td>medline16n0001</td>\n",
       "      <td>16691813.txt.ss.tok</td>\n",
       "    </tr>\n",
       "    <tr>\n",
       "      <th>2</th>\n",
       "      <td>126</td>\n",
       "      <td>130</td>\n",
       "      <td>Urea</td>\n",
       "      <td>DB03904</td>\n",
       "      <td>medline16n0001</td>\n",
       "      <td>16991250.txt.ss.tok</td>\n",
       "    </tr>\n",
       "    <tr>\n",
       "      <th>3</th>\n",
       "      <td>43</td>\n",
       "      <td>50</td>\n",
       "      <td>Atropin</td>\n",
       "      <td>DB00572</td>\n",
       "      <td>medline16n0001</td>\n",
       "      <td>16991252.txt.ss.tok</td>\n",
       "    </tr>\n",
       "    <tr>\n",
       "      <th>4</th>\n",
       "      <td>12</td>\n",
       "      <td>16</td>\n",
       "      <td>Prof</td>\n",
       "      <td>Q96P53</td>\n",
       "      <td>medline16n0001</td>\n",
       "      <td>16991253.txt.ss.tok</td>\n",
       "    </tr>\n",
       "  </tbody>\n",
       "</table>\n",
       "</div>"
      ],
      "text/plain": [
       "     4    5        6        7            base                 file\n",
       "0  17   22   Water    DB09145  medline16n0001  16691752.txt.ss.tok\n",
       "1  24   28   Iron     DB01592  medline16n0001  16691813.txt.ss.tok\n",
       "2  126  130  Urea     DB03904  medline16n0001  16991250.txt.ss.tok\n",
       "3  43   50   Atropin  DB00572  medline16n0001  16991252.txt.ss.tok\n",
       "4  12   16   Prof     Q96P53   medline16n0001  16991253.txt.ss.tok"
      ]
     },
     "execution_count": 123,
     "metadata": {},
     "output_type": "execute_result"
    }
   ],
   "source": [
    "df.head()"
   ]
  },
  {
   "cell_type": "code",
   "execution_count": 147,
   "metadata": {},
   "outputs": [],
   "source": [
    "gr = df.groupby(['base', 'file']).agg({4: list, 5: list, 6: list, 7: list})"
   ]
  },
  {
   "cell_type": "code",
   "execution_count": 148,
   "metadata": {},
   "outputs": [
    {
     "data": {
      "text/html": [
       "<div>\n",
       "<style scoped>\n",
       "    .dataframe tbody tr th:only-of-type {\n",
       "        vertical-align: middle;\n",
       "    }\n",
       "\n",
       "    .dataframe tbody tr th {\n",
       "        vertical-align: top;\n",
       "    }\n",
       "\n",
       "    .dataframe thead th {\n",
       "        text-align: right;\n",
       "    }\n",
       "</style>\n",
       "<table border=\"1\" class=\"dataframe\">\n",
       "  <thead>\n",
       "    <tr style=\"text-align: right;\">\n",
       "      <th></th>\n",
       "      <th></th>\n",
       "      <th>4</th>\n",
       "      <th>5</th>\n",
       "      <th>6</th>\n",
       "      <th>7</th>\n",
       "    </tr>\n",
       "    <tr>\n",
       "      <th>base</th>\n",
       "      <th>file</th>\n",
       "      <th></th>\n",
       "      <th></th>\n",
       "      <th></th>\n",
       "      <th></th>\n",
       "    </tr>\n",
       "  </thead>\n",
       "  <tbody>\n",
       "    <tr>\n",
       "      <th rowspan=\"5\" valign=\"top\">medline16n0001</th>\n",
       "      <th>16691752.txt.ss.tok</th>\n",
       "      <td>[17]</td>\n",
       "      <td>[22]</td>\n",
       "      <td>[Water]</td>\n",
       "      <td>[DB09145]</td>\n",
       "    </tr>\n",
       "    <tr>\n",
       "      <th>16691813.txt.ss.tok</th>\n",
       "      <td>[24]</td>\n",
       "      <td>[28]</td>\n",
       "      <td>[Iron]</td>\n",
       "      <td>[DB01592]</td>\n",
       "    </tr>\n",
       "    <tr>\n",
       "      <th>16991250.txt.ss.tok</th>\n",
       "      <td>[126]</td>\n",
       "      <td>[130]</td>\n",
       "      <td>[Urea]</td>\n",
       "      <td>[DB03904]</td>\n",
       "    </tr>\n",
       "    <tr>\n",
       "      <th>16991252.txt.ss.tok</th>\n",
       "      <td>[43]</td>\n",
       "      <td>[50]</td>\n",
       "      <td>[Atropin]</td>\n",
       "      <td>[DB00572]</td>\n",
       "    </tr>\n",
       "    <tr>\n",
       "      <th>16991253.txt.ss.tok</th>\n",
       "      <td>[12]</td>\n",
       "      <td>[16]</td>\n",
       "      <td>[Prof]</td>\n",
       "      <td>[Q96P53]</td>\n",
       "    </tr>\n",
       "  </tbody>\n",
       "</table>\n",
       "</div>"
      ],
      "text/plain": [
       "                                        4      5          6          7\n",
       "base           file                                                   \n",
       "medline16n0001 16691752.txt.ss.tok  [17]   [22]   [Water]    [DB09145]\n",
       "               16691813.txt.ss.tok  [24]   [28]   [Iron]     [DB01592]\n",
       "               16991250.txt.ss.tok  [126]  [130]  [Urea]     [DB03904]\n",
       "               16991252.txt.ss.tok  [43]   [50]   [Atropin]  [DB00572]\n",
       "               16991253.txt.ss.tok  [12]   [16]   [Prof]     [Q96P53] "
      ]
     },
     "execution_count": 148,
     "metadata": {},
     "output_type": "execute_result"
    }
   ],
   "source": [
    "gr.head()"
   ]
  },
  {
   "cell_type": "code",
   "execution_count": 152,
   "metadata": {},
   "outputs": [],
   "source": [
    "gr = gr.reset_index()"
   ]
  },
  {
   "cell_type": "code",
   "execution_count": 153,
   "metadata": {},
   "outputs": [
    {
     "data": {
      "text/html": [
       "<div>\n",
       "<style scoped>\n",
       "    .dataframe tbody tr th:only-of-type {\n",
       "        vertical-align: middle;\n",
       "    }\n",
       "\n",
       "    .dataframe tbody tr th {\n",
       "        vertical-align: top;\n",
       "    }\n",
       "\n",
       "    .dataframe thead th {\n",
       "        text-align: right;\n",
       "    }\n",
       "</style>\n",
       "<table border=\"1\" class=\"dataframe\">\n",
       "  <thead>\n",
       "    <tr style=\"text-align: right;\">\n",
       "      <th></th>\n",
       "      <th>base</th>\n",
       "      <th>file</th>\n",
       "      <th>4</th>\n",
       "      <th>5</th>\n",
       "      <th>6</th>\n",
       "      <th>7</th>\n",
       "    </tr>\n",
       "  </thead>\n",
       "  <tbody>\n",
       "    <tr>\n",
       "      <th>0</th>\n",
       "      <td>medline16n0001</td>\n",
       "      <td>16691752.txt.ss.tok</td>\n",
       "      <td>[17]</td>\n",
       "      <td>[22]</td>\n",
       "      <td>[Water]</td>\n",
       "      <td>[DB09145]</td>\n",
       "    </tr>\n",
       "    <tr>\n",
       "      <th>1</th>\n",
       "      <td>medline16n0001</td>\n",
       "      <td>16691813.txt.ss.tok</td>\n",
       "      <td>[24]</td>\n",
       "      <td>[28]</td>\n",
       "      <td>[Iron]</td>\n",
       "      <td>[DB01592]</td>\n",
       "    </tr>\n",
       "    <tr>\n",
       "      <th>2</th>\n",
       "      <td>medline16n0001</td>\n",
       "      <td>16991250.txt.ss.tok</td>\n",
       "      <td>[126]</td>\n",
       "      <td>[130]</td>\n",
       "      <td>[Urea]</td>\n",
       "      <td>[DB03904]</td>\n",
       "    </tr>\n",
       "    <tr>\n",
       "      <th>3</th>\n",
       "      <td>medline16n0001</td>\n",
       "      <td>16991252.txt.ss.tok</td>\n",
       "      <td>[43]</td>\n",
       "      <td>[50]</td>\n",
       "      <td>[Atropin]</td>\n",
       "      <td>[DB00572]</td>\n",
       "    </tr>\n",
       "    <tr>\n",
       "      <th>4</th>\n",
       "      <td>medline16n0001</td>\n",
       "      <td>16991253.txt.ss.tok</td>\n",
       "      <td>[12]</td>\n",
       "      <td>[16]</td>\n",
       "      <td>[Prof]</td>\n",
       "      <td>[Q96P53]</td>\n",
       "    </tr>\n",
       "  </tbody>\n",
       "</table>\n",
       "</div>"
      ],
      "text/plain": [
       "             base                 file      4      5          6          7\n",
       "0  medline16n0001  16691752.txt.ss.tok  [17]   [22]   [Water]    [DB09145]\n",
       "1  medline16n0001  16691813.txt.ss.tok  [24]   [28]   [Iron]     [DB01592]\n",
       "2  medline16n0001  16991250.txt.ss.tok  [126]  [130]  [Urea]     [DB03904]\n",
       "3  medline16n0001  16991252.txt.ss.tok  [43]   [50]   [Atropin]  [DB00572]\n",
       "4  medline16n0001  16991253.txt.ss.tok  [12]   [16]   [Prof]     [Q96P53] "
      ]
     },
     "execution_count": 153,
     "metadata": {},
     "output_type": "execute_result"
    }
   ],
   "source": [
    "gr.head()"
   ]
  },
  {
   "cell_type": "code",
   "execution_count": 156,
   "metadata": {},
   "outputs": [
    {
     "data": {
      "text/plain": [
       "0"
      ]
     },
     "execution_count": 156,
     "metadata": {},
     "output_type": "execute_result"
    }
   ],
   "source": [
    "len(gr.loc[gr['file'] == 'a'])"
   ]
  },
  {
   "cell_type": "code",
   "execution_count": 182,
   "metadata": {},
   "outputs": [],
   "source": [
    "regex = re.compile('^(?:.)+\\.tar\\.gz$')"
   ]
  },
  {
   "cell_type": "code",
   "execution_count": 188,
   "metadata": {},
   "outputs": [],
   "source": [
    "replaced = open('replaced.txt', 'w')"
   ]
  },
  {
   "cell_type": "code",
   "execution_count": null,
   "metadata": {},
   "outputs": [
    {
     "name": "stderr",
     "output_type": "stream",
     "text": [
      "\n",
      "  0%|          | 0/1624 [00:00<?, ?it/s]\u001b[A\n",
      "  0%|          | 1/1624 [00:37<17:05:23, 37.91s/it]\u001b[A\n",
      "  0%|          | 3/1624 [01:15<11:17:05, 25.06s/it]\u001b[A\n",
      "  0%|          | 5/1624 [01:46<9:32:48, 21.23s/it] \u001b[A\n",
      "  0%|          | 7/1624 [02:11<8:28:07, 18.85s/it]\u001b[A\n",
      "  1%|          | 9/1624 [02:34<7:43:03, 17.20s/it]\u001b[A\n",
      "  1%|          | 11/1624 [02:57<7:14:47, 16.17s/it]\u001b[A\n",
      "  1%|          | 13/1624 [03:17<6:48:40, 15.22s/it]\u001b[A\n",
      "  1%|          | 15/1624 [03:32<6:20:38, 14.19s/it]\u001b[A\n",
      "  1%|          | 17/1624 [04:06<6:28:16, 14.50s/it]\u001b[A\n",
      "  1%|          | 18/1624 [04:29<6:41:19, 14.99s/it]\u001b[A\n",
      "  1%|▏         | 21/1624 [05:07<6:30:34, 14.62s/it]\u001b[A\n",
      "  1%|▏         | 23/1624 [05:21<6:12:56, 13.98s/it]\u001b[A\n",
      "  2%|▏         | 25/1624 [05:36<5:58:44, 13.46s/it]\u001b[A\n",
      "  2%|▏         | 27/1624 [05:53<5:48:49, 13.11s/it]\u001b[A\n",
      "  2%|▏         | 28/1624 [06:09<5:50:48, 13.19s/it]\u001b[A\n",
      "  2%|▏         | 31/1624 [06:31<5:35:36, 12.64s/it]\u001b[A\n",
      "  2%|▏         | 33/1624 [07:01<5:38:25, 12.76s/it]\u001b[A\n",
      "  2%|▏         | 35/1624 [07:23<5:35:34, 12.67s/it]\u001b[A\n",
      "  2%|▏         | 37/1624 [07:37<5:27:03, 12.36s/it]\u001b[A\n",
      "  2%|▏         | 39/1624 [07:51<5:19:15, 12.09s/it]\u001b[A\n",
      "  3%|▎         | 41/1624 [08:29<5:27:44, 12.42s/it]\u001b[A\n",
      "  3%|▎         | 42/1624 [09:04<5:41:53, 12.97s/it]\u001b[A\n",
      "  3%|▎         | 45/1624 [09:37<5:37:26, 12.82s/it]\u001b[A\n",
      "  3%|▎         | 47/1624 [09:57<5:34:01, 12.71s/it]\u001b[A\n",
      "  3%|▎         | 49/1624 [10:12<5:28:18, 12.51s/it]\u001b[A"
     ]
    },
    {
     "name": "stdout",
     "output_type": "stream",
     "text": [
      "nan b'N/A'\n"
     ]
    },
    {
     "name": "stderr",
     "output_type": "stream",
     "text": [
      "\n",
      "  3%|▎         | 51/1624 [10:46<5:32:11, 12.67s/it]\u001b[A\n",
      "  3%|▎         | 53/1624 [11:11<5:31:45, 12.67s/it]\u001b[A\n",
      "  3%|▎         | 54/1624 [11:38<5:38:32, 12.94s/it]\u001b[A\n",
      "  4%|▎         | 57/1624 [12:13<5:35:57, 12.86s/it]\u001b[A\n",
      "  4%|▎         | 59/1624 [12:46<5:38:56, 12.99s/it]\u001b[A\n",
      "  4%|▎         | 60/1624 [13:01<5:39:22, 13.02s/it]\u001b[A\n",
      "  4%|▍         | 63/1624 [13:22<5:31:16, 12.73s/it]\u001b[A\n",
      "  4%|▍         | 65/1624 [13:57<5:34:49, 12.89s/it]\u001b[A\n",
      "  4%|▍         | 67/1624 [14:33<5:38:20, 13.04s/it]\u001b[A\n",
      "  4%|▍         | 69/1624 [15:07<5:40:45, 13.15s/it]\u001b[A\n",
      "  4%|▍         | 71/1624 [15:26<5:37:39, 13.05s/it]\u001b[A\n",
      "  4%|▍         | 73/1624 [15:51<5:36:47, 13.03s/it]\u001b[A\n",
      "  5%|▍         | 74/1624 [16:24<5:43:35, 13.30s/it]\u001b[A\n",
      "  5%|▍         | 75/1624 [16:57<5:50:16, 13.57s/it]\u001b[A\n",
      "  5%|▍         | 77/1624 [17:13<5:45:56, 13.42s/it]\u001b[A\n",
      "  5%|▍         | 78/1624 [17:28<5:46:12, 13.44s/it]\u001b[A"
     ]
    },
    {
     "name": "stdout",
     "output_type": "stream",
     "text": [
      "nan b'N/A'\n"
     ]
    },
    {
     "name": "stderr",
     "output_type": "stream",
     "text": [
      "\n",
      "  5%|▌         | 83/1624 [18:09<5:37:07, 13.13s/it]\u001b[A\n",
      "  5%|▌         | 85/1624 [18:48<5:40:30, 13.28s/it]\u001b[A\n",
      "  5%|▌         | 86/1624 [19:24<5:47:07, 13.54s/it]\u001b[A\n",
      "  5%|▌         | 89/1624 [19:55<5:43:42, 13.43s/it]\u001b[A\n",
      "  6%|▌         | 91/1624 [20:24<5:43:49, 13.46s/it]\u001b[A\n",
      "  6%|▌         | 92/1624 [20:56<5:48:49, 13.66s/it]\u001b[A"
     ]
    },
    {
     "name": "stdout",
     "output_type": "stream",
     "text": [
      "nan b'N/A'\n",
      "nan b'N/A'\n",
      "nan b'N/A'\n",
      "nan b'N/A'\n",
      "nan b'N/A'\n",
      "nan b'N/A'\n",
      "nan b'N/A'\n",
      "nan b'N/A'\n"
     ]
    },
    {
     "name": "stderr",
     "output_type": "stream",
     "text": [
      "\n",
      "  6%|▌         | 95/1624 [21:36<5:47:40, 13.64s/it]\u001b[A\n",
      "  6%|▌         | 96/1624 [22:03<5:51:03, 13.79s/it]\u001b[A\n",
      "  6%|▌         | 97/1624 [22:25<5:52:59, 13.87s/it]\u001b[A"
     ]
    },
    {
     "name": "stdout",
     "output_type": "stream",
     "text": [
      "nan b'N/A'\n",
      "nan b'N/A'\n",
      "nan b'N/A'\n",
      "nan b'N/A'\n",
      "nan b'N/A'\n",
      "nan b'N/A'\n",
      "nan b'N/A'\n",
      "nan b'N/A'\n"
     ]
    },
    {
     "name": "stderr",
     "output_type": "stream",
     "text": [
      "\n",
      "  6%|▌         | 99/1624 [23:04<5:55:22, 13.98s/it]\u001b[A\n",
      "  6%|▋         | 102/1624 [23:19<5:47:58, 13.72s/it]\u001b[A\n",
      "  6%|▋         | 105/1624 [23:42<5:42:55, 13.55s/it]\u001b[A\n",
      "  7%|▋         | 107/1624 [24:03<5:41:10, 13.49s/it]\u001b[A\n",
      "  7%|▋         | 109/1624 [24:27<5:39:55, 13.46s/it]\u001b[A"
     ]
    },
    {
     "name": "stdout",
     "output_type": "stream",
     "text": [
      "nan b'N/A'\n",
      "nan b'N/A'\n",
      "nan b'N/A'\n",
      "nan b'N/A'\n",
      "nan b'N/A'\n"
     ]
    },
    {
     "name": "stderr",
     "output_type": "stream",
     "text": [
      "\n",
      "  7%|▋         | 111/1624 [25:07<5:42:32, 13.58s/it]\u001b[A\n",
      "  7%|▋         | 112/1624 [25:39<5:46:23, 13.75s/it]\u001b[A\n",
      "  7%|▋         | 113/1624 [26:02<5:48:08, 13.82s/it]\u001b[A\n",
      "  7%|▋         | 115/1624 [26:24<5:46:36, 13.78s/it]\u001b[A\n",
      "  7%|▋         | 118/1624 [27:02<5:45:10, 13.75s/it]\u001b[A\n",
      "  7%|▋         | 119/1624 [27:36<5:49:05, 13.92s/it]\u001b[A\n",
      "  8%|▊         | 123/1624 [28:16<5:45:04, 13.79s/it]\u001b[A\n",
      "  8%|▊         | 124/1624 [28:39<5:46:34, 13.86s/it]\u001b[A\n",
      "  8%|▊         | 127/1624 [29:05<5:42:54, 13.74s/it]\u001b[A\n",
      "  8%|▊         | 128/1624 [29:19<5:42:43, 13.75s/it]\u001b[A\n",
      "  8%|▊         | 131/1624 [29:43<5:38:51, 13.62s/it]\u001b[A\n",
      "  8%|▊         | 133/1624 [30:22<5:40:26, 13.70s/it]\u001b[A\n",
      "  8%|▊         | 134/1624 [30:59<5:44:36, 13.88s/it]\u001b[A\n",
      "  8%|▊         | 135/1624 [31:30<5:47:31, 14.00s/it]\u001b[A\n",
      "  9%|▊         | 139/1624 [32:03<5:42:27, 13.84s/it]\u001b[A"
     ]
    },
    {
     "name": "stdout",
     "output_type": "stream",
     "text": [
      "nan b'N/A'\n"
     ]
    },
    {
     "name": "stderr",
     "output_type": "stream",
     "text": [
      "\n",
      "  9%|▊         | 140/1624 [32:28<5:44:15, 13.92s/it]\u001b[A\n",
      "  9%|▊         | 141/1624 [33:06<5:48:17, 14.09s/it]\u001b[A\n",
      "  9%|▉         | 145/1624 [33:43<5:43:59, 13.96s/it]\u001b[A\n",
      "  9%|▉         | 146/1624 [34:15<5:46:45, 14.08s/it]\u001b[A"
     ]
    },
    {
     "name": "stdout",
     "output_type": "stream",
     "text": [
      "nan b'N/A'\n",
      "nan b'N/A'\n",
      "nan b'N/A'\n",
      "nan b'N/A'\n",
      "nan b'N/A'\n",
      "nan b'N/A'\n",
      "nan b'N/A'\n"
     ]
    },
    {
     "name": "stderr",
     "output_type": "stream",
     "text": [
      "\n",
      "  9%|▉         | 149/1624 [34:54<5:45:33, 14.06s/it]\u001b[A\n",
      "  9%|▉         | 151/1624 [35:26<5:45:40, 14.08s/it]\u001b[A\n",
      "  9%|▉         | 153/1624 [35:59<5:46:01, 14.11s/it]\u001b[A\n",
      " 10%|▉         | 155/1624 [36:27<5:45:28, 14.11s/it]\u001b[A\n",
      " 10%|▉         | 157/1624 [36:43<5:43:05, 14.03s/it]\u001b[A\n",
      " 10%|▉         | 159/1624 [36:58<5:40:39, 13.95s/it]\u001b[A\n",
      " 10%|▉         | 161/1624 [37:39<5:42:09, 14.03s/it]\u001b[A\n",
      " 10%|▉         | 162/1624 [38:14<5:45:10, 14.17s/it]\u001b[A\n",
      " 10%|█         | 164/1624 [38:39<5:44:07, 14.14s/it]\u001b[A\n",
      " 10%|█         | 167/1624 [38:55<5:39:39, 13.99s/it]\u001b[A\n",
      " 10%|█         | 168/1624 [39:26<5:41:50, 14.09s/it]\u001b[A\n",
      " 10%|█         | 169/1624 [39:56<5:43:50, 14.18s/it]\u001b[A\n",
      " 10%|█         | 170/1624 [40:12<5:43:53, 14.19s/it]\u001b[A\n",
      " 11%|█         | 175/1624 [40:41<5:36:57, 13.95s/it]\u001b[A\n",
      " 11%|█         | 177/1624 [41:22<5:38:16, 14.03s/it]\u001b[A\n",
      " 11%|█         | 178/1624 [41:45<5:39:12, 14.07s/it]\u001b[A"
     ]
    },
    {
     "name": "stdout",
     "output_type": "stream",
     "text": [
      "nan b'N/A'\n",
      "nan b'N/A'\n"
     ]
    },
    {
     "name": "stderr",
     "output_type": "stream",
     "text": [
      "\n",
      " 11%|█         | 179/1624 [42:19<5:41:36, 14.18s/it]\u001b[A\n",
      " 11%|█         | 181/1624 [42:35<5:39:34, 14.12s/it]\u001b[A\n",
      " 11%|█▏        | 185/1624 [43:12<5:36:07, 14.01s/it]\u001b[A\n",
      " 12%|█▏        | 187/1624 [43:28<5:34:06, 13.95s/it]\u001b[A\n",
      " 12%|█▏        | 189/1624 [44:04<5:34:41, 13.99s/it]\u001b[A\n",
      " 12%|█▏        | 190/1624 [44:26<5:35:26, 14.04s/it]\u001b[A\n",
      " 12%|█▏        | 192/1624 [44:56<5:35:15, 14.05s/it]\u001b[A\n",
      " 12%|█▏        | 193/1624 [45:31<5:37:33, 14.15s/it]\u001b[A\n",
      " 12%|█▏        | 195/1624 [46:07<5:37:59, 14.19s/it]\u001b[A"
     ]
    }
   ],
   "source": [
    "for path in tqdm(os.listdir('/home/psteneto/mr_corpora/psteneto/pubmed_2016_xml_txt_ss_tok/tok/')):\n",
    "    if regex.match(path):\n",
    "        tar = tarfile.open('/home/psteneto/mr_corpora/psteneto/pubmed_2016_xml_txt_ss_tok/tok/{}'.format(path))\n",
    "        base = path.split('.tar.gz')[0]\n",
    "        subgr = gr.loc[gr['base'] == base]\n",
    "        for member in tar.getmembers():\n",
    "            file = member.name.split('/')[1]\n",
    "            repl = subgr.loc[subgr['file'] == file]\n",
    "            if len(repl) == 1:\n",
    "                f = tar.extractfile(member.name)\n",
    "                content = f.read()\n",
    "                new_content = ''\n",
    "                str_start = 0\n",
    "                ok = True\n",
    "                for start, end, elem, elem_id in zip(repl[4].iloc[0], repl[5].iloc[0], repl[6].iloc[0], repl[7].iloc[0]):\n",
    "                    if elem != content[start:end].decode('utf-8'):\n",
    "                        print(elem, content[start:end])\n",
    "                        ok = False\n",
    "                        break\n",
    "                    new_content += content[str_start:start].decode('utf-8') + elem_id\n",
    "                    str_start = end\n",
    "                if ok:\n",
    "                    print(new_content.encode('utf-8'), file=replaced)"
   ]
  },
  {
   "cell_type": "code",
   "execution_count": null,
   "metadata": {},
   "outputs": [],
   "source": []
  }
 ],
 "metadata": {
  "kernelspec": {
   "display_name": "Python 3",
   "language": "python",
   "name": "python3"
  },
  "language_info": {
   "codemirror_mode": {
    "name": "ipython",
    "version": 3
   },
   "file_extension": ".py",
   "mimetype": "text/x-python",
   "name": "python",
   "nbconvert_exporter": "python",
   "pygments_lexer": "ipython3",
   "version": "3.6.5"
  }
 },
 "nbformat": 4,
 "nbformat_minor": 1
}
